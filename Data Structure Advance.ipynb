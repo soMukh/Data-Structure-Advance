{
 "cells": [
  {
   "cell_type": "code",
   "execution_count": 45,
   "metadata": {},
   "outputs": [
    {
     "name": "stdout",
     "output_type": "stream",
     "text": [
      "Reverse of the entered string is : eejrehkuM mahoS\n"
     ]
    }
   ],
   "source": [
    "# 1. Write a code to reverse a string.\n",
    "\n",
    "string=input(\"Enter a string value:\")\n",
    "revString=\"\"\n",
    "i=len(string)-1\n",
    "while i>=0:\n",
    "   revString=revString+string[i]\n",
    "   i=i-1\n",
    "print(f\"Reverse of the entered string is : {revString}\")"
   ]
  },
  {
   "cell_type": "code",
   "execution_count": 46,
   "metadata": {},
   "outputs": [
    {
     "name": "stdout",
     "output_type": "stream",
     "text": [
      "Total vowels in the entered string is 10\n"
     ]
    }
   ],
   "source": [
    "# 2. Write a code to count the number of vowels in a string.\n",
    "\n",
    "data=input(\"Enter a string value:\")\n",
    "vowels=\"aeiouAEIOU\"\n",
    "count=0\n",
    "for i in data:\n",
    "    if i in vowels:\n",
    "      count=count+1\n",
    "print(f\"Total vowels in the entered string is {count}\")    "
   ]
  },
  {
   "cell_type": "code",
   "execution_count": 47,
   "metadata": {},
   "outputs": [
    {
     "name": "stdout",
     "output_type": "stream",
     "text": [
      "It is a pallindrome string.\n"
     ]
    }
   ],
   "source": [
    "# 3. Write a code to check if a given string is a palindrome or not.\n",
    "\n",
    "string=input(\"Enter a string value:\")\n",
    "revString=\"\"\n",
    "i=len(string)-1\n",
    "while i>=0:\n",
    "   revString=revString+string[i]\n",
    "   i=i-1\n",
    "if revString == string:\n",
    "   print(\"It is a pallindrome string.\")\n",
    "else:\n",
    "   print(\"It is not a pallindrome string.\")"
   ]
  },
  {
   "cell_type": "code",
   "execution_count": 48,
   "metadata": {},
   "outputs": [
    {
     "name": "stdout",
     "output_type": "stream",
     "text": [
      "The entered strings are anagrams of each other.\n"
     ]
    }
   ],
   "source": [
    "# 4. Write a code to check if two given strings are anagrams of each other.\n",
    "\n",
    "string1=input(\"Enter the first string value:\").lower()\n",
    "string2=input(\"Enter the second string value:\").lower()\n",
    "for i in string1:\n",
    "    if i not in string2:\n",
    "        print(\"The entered strings are not anagrams of each other.\")\n",
    "        break\n",
    "else:\n",
    "    print(\"The entered strings are anagrams of each other.\")"
   ]
  },
  {
   "cell_type": "code",
   "execution_count": 49,
   "metadata": {},
   "outputs": [
    {
     "name": "stdout",
     "output_type": "stream",
     "text": [
      "All occurences of am in the entered string is [2, 8] having total count of occurences as 2\n"
     ]
    }
   ],
   "source": [
    "# 5. Write a code to find all occurrences of a given substring within another string.\n",
    "\n",
    "import re\n",
    "string=input(\"Enter a string value:\")\n",
    "substring=input(\"Enter the substring you want to find all occurences of:\")\n",
    "occurences=[occurence.start() for occurence in re.finditer(substring,string)]\n",
    "print(f\"All occurences of {substring} in the entered string is {occurences} having total count of occurences as {len(occurences)}\")    "
   ]
  },
  {
   "cell_type": "code",
   "execution_count": 56,
   "metadata": {},
   "outputs": [
    {
     "name": "stdout",
     "output_type": "stream",
     "text": [
      "The entered string value after compression is : a3b2c3\n"
     ]
    }
   ],
   "source": [
    "# 6. Write a code to perform basic string compression using the counts of repeated characters.\n",
    "\n",
    "string=input(\"Enter a string value:\")\n",
    "compressString=\"\"\n",
    "i=0\n",
    "while i<len(string):\n",
    "    count=1\n",
    "    while i+1<len(string) and string[i]==string[i+1]:\n",
    "        count=count+1\n",
    "        i=i+1\n",
    "    compressString=compressString+string[i]+(str(count) if count>1 else \"\")\n",
    "    i=i+1\n",
    "print(f\"The entered string value after compression is : {compressString}\")"
   ]
  },
  {
   "cell_type": "code",
   "execution_count": 59,
   "metadata": {},
   "outputs": [
    {
     "name": "stdout",
     "output_type": "stream",
     "text": [
      "All characters of the string are not unique.\n"
     ]
    }
   ],
   "source": [
    "# 7. Write a code to determine if a string has all unique characters.\n",
    "\n",
    "string=input(\"Enter a string value:\")\n",
    "uniqueCharacters=set()\n",
    "for i in string:\n",
    "    if i in uniqueCharacters:\n",
    "        print(\"All characters of the string are not unique.\")\n",
    "        break\n",
    "    else:\n",
    "        uniqueCharacters.add(i)\n",
    "else:\n",
    "    print(\"All characters of the string are unique.\")"
   ]
  },
  {
   "cell_type": "code",
   "execution_count": 60,
   "metadata": {},
   "outputs": [
    {
     "name": "stdout",
     "output_type": "stream",
     "text": [
      "Entered string in uppercase is SOHAM\n",
      "Entered string in lowercase is soham\n"
     ]
    }
   ],
   "source": [
    "# 8. Write a code to convert a given string to uppercase or lowercase.\n",
    "\n",
    "string=input(\"Enter a string value:\")\n",
    "print(f\"Entered string in uppercase is {string.upper()}\")\n",
    "print(f\"Entered string in lowercase is {string.lower()}\")"
   ]
  },
  {
   "cell_type": "code",
   "execution_count": 61,
   "metadata": {},
   "outputs": [
    {
     "name": "stdout",
     "output_type": "stream",
     "text": [
      "Number of the words in the entered string is/are 7\n"
     ]
    }
   ],
   "source": [
    "# 9. Write a code to count the number of words in a string.\n",
    "\n",
    "import re\n",
    "\n",
    "string=input(\"Enter a string value:\")\n",
    "words=re.split(r\"[ ,;:?.!]+\",string)\n",
    "for i in words:\n",
    "    if i==\"\":\n",
    "        words.remove(i)\n",
    "print(f\"Number of the words in the entered string is/are {len(words)}\")\n"
   ]
  },
  {
   "cell_type": "code",
   "execution_count": 62,
   "metadata": {},
   "outputs": [
    {
     "name": "stdout",
     "output_type": "stream",
     "text": [
      "The string after concatenation is Soham Mukherjee\n"
     ]
    }
   ],
   "source": [
    "# 10. Write a code to concatenate two strings without using the + operator.\n",
    "\n",
    "string1=input(\"Enter the first string value:\")\n",
    "string2=input(\"Enter the second string value:\")\n",
    "concatString=\"\"\n",
    "for i in string1:\n",
    "    concatString=concatString+i\n",
    "concatString=concatString+\" \"\n",
    "for j in string2:\n",
    "    concatString=concatString+j\n",
    "print(f\"The string after concatenation is {concatString}\")"
   ]
  },
  {
   "cell_type": "code",
   "execution_count": 63,
   "metadata": {},
   "outputs": [
    {
     "name": "stdout",
     "output_type": "stream",
     "text": [
      "Original list of elements are:\n",
      "1\n",
      "2\n",
      "3\n",
      "List of elements after removing the provided element are:\n",
      "1\n",
      "3\n"
     ]
    }
   ],
   "source": [
    "# 11. Write a code to remove all occurrences of a specific element from a list.\n",
    "\n",
    "elements=list()\n",
    "length=int(input(\"Enter the length of the list:\"))\n",
    "for i in range(0,length):\n",
    "    element=(input(f\"Enter element {i+1} : \"))\n",
    "    elements.append(element)\n",
    "removeElement=(input(\"Enter the element to remove:\"))\n",
    "print(\"Original list of elements are:\")\n",
    "for i in elements:\n",
    "    print(i)\n",
    "while removeElement in elements:\n",
    "    elements.remove(removeElement)\n",
    "print(\"List of elements after removing the provided element are:\")\n",
    "for i in elements:\n",
    "    print(i)"
   ]
  },
  {
   "cell_type": "code",
   "execution_count": 64,
   "metadata": {},
   "outputs": [
    {
     "name": "stdout",
     "output_type": "stream",
     "text": [
      "List of elements are:\n",
      "1\n",
      "4\n",
      "3\n",
      "3\n",
      "Second largest number in the list of elements is 3\n"
     ]
    }
   ],
   "source": [
    "# 12. Implement a code to find the second largest number in a given list of integers.\n",
    "\n",
    "elements=list()\n",
    "length=int(input(\"Enter the length of the list:\"))\n",
    "for i in range(0,length):\n",
    "    element=int(input(f\"Enter element {i+1} : \"))\n",
    "    elements.append(element)\n",
    "print(\"List of elements are:\")\n",
    "for i in elements:\n",
    "    print(i)\n",
    "elements.sort()\n",
    "print(f\"Second largest number in the list of elements is {elements[-2]}\")\n"
   ]
  },
  {
   "cell_type": "code",
   "execution_count": 65,
   "metadata": {},
   "outputs": [
    {
     "name": "stdout",
     "output_type": "stream",
     "text": [
      "List of elements are:\n",
      "s\n",
      "b\n",
      "1\n",
      "1\n",
      "l\n",
      "Occurence of each element in the list are:\n",
      "l : 1\n",
      "b : 1\n",
      "s : 1\n",
      "1 : 2\n"
     ]
    }
   ],
   "source": [
    "# 13. Create a code to count the occurrences of each element in a list and return a dictionary with elements as keys and their counts as values.\n",
    "\n",
    "occurences=dict()\n",
    "elements=list()\n",
    "length=int(input(\"Enter the length of the list:\"))\n",
    "for i in range(0,length):\n",
    "    element=(input(f\"Enter element {i+1} : \"))\n",
    "    elements.append(element)\n",
    "print(\"List of elements are:\")\n",
    "for i in elements:\n",
    "    print(i)\n",
    "uniqueElements=set()\n",
    "for i in elements:\n",
    "    uniqueElements.add(i)\n",
    "for i in uniqueElements:\n",
    "    count=0\n",
    "    for j in range(0,len(elements)):\n",
    "        if i==elements[j]:\n",
    "            count=count+1\n",
    "    occurences.update({i:count})\n",
    "print(\"Occurence of each element in the list are:\")\n",
    "for key,value in occurences.items():\n",
    "    print(f\"{key} : {value}\")"
   ]
  },
  {
   "cell_type": "code",
   "execution_count": 66,
   "metadata": {},
   "outputs": [
    {
     "name": "stdout",
     "output_type": "stream",
     "text": [
      "Original list of elements are:\n",
      "1\n",
      "3\n",
      "2\n",
      "4\n",
      "List of elements after reversing are:\n",
      "4\n",
      "2\n",
      "3\n",
      "1\n"
     ]
    }
   ],
   "source": [
    "# 14. Write a code to reverse a list in-place without using any built-in reverse functions.\n",
    "\n",
    "elements=list()\n",
    "length=int(input(\"Enter the length of the list:\"))\n",
    "for i in range(0,length):\n",
    "    element=(input(f\"Enter element {i+1} : \"))\n",
    "    elements.append(element)\n",
    "print(\"Original list of elements are:\")\n",
    "for i in elements:\n",
    "    print(i)\n",
    "start=0\n",
    "while start<len(elements):\n",
    "    elements.insert(start,elements[-1])\n",
    "    elements.pop()\n",
    "    start=start+1\n",
    "print(\"List of elements after reversing are:\")\n",
    "for i in elements:\n",
    "    print(i)"
   ]
  },
  {
   "cell_type": "code",
   "execution_count": 67,
   "metadata": {},
   "outputs": [
    {
     "name": "stdout",
     "output_type": "stream",
     "text": [
      "Original list of elements are:\n",
      "1\n",
      "2\n",
      "2\n",
      "List of elements after removing duplicates are:\n",
      "1\n",
      "2\n"
     ]
    }
   ],
   "source": [
    "# 15. Implement a code to find and remove duplicates from a list while preserving the original order of elements.\n",
    "\n",
    "elements=list()\n",
    "length=int(input(\"Enter the length of the list:\"))\n",
    "for i in range(0,length):\n",
    "    element=(input(f\"Enter element {i+1} : \"))\n",
    "    elements.append(element)\n",
    "print(\"Original list of elements are:\")\n",
    "for i in elements:\n",
    "    print(i)\n",
    "uniqueElements=list()\n",
    "for i in elements:\n",
    "    if i in uniqueElements:\n",
    "        continue\n",
    "    else:\n",
    "        uniqueElements.append(i)\n",
    "print(\"List of elements after removing duplicates are:\")\n",
    "for i in uniqueElements:\n",
    "    print(i)"
   ]
  },
  {
   "cell_type": "code",
   "execution_count": 68,
   "metadata": {},
   "outputs": [
    {
     "name": "stdout",
     "output_type": "stream",
     "text": [
      "List of elements are:\n",
      "1\n",
      "3\n",
      "2\n",
      "The entered list of elements are neither in ascending nor descending order.\n"
     ]
    }
   ],
   "source": [
    "# 16. Create a code to check if a given list is sorted (either in ascending or descending order) or not.\n",
    "\n",
    "elements=list()\n",
    "length=int(input(\"Enter the length of the list:\"))\n",
    "for i in range(0,length):\n",
    "    element=(input(f\"Enter element {i+1} : \"))\n",
    "    elements.append(element)\n",
    "print(\"List of elements are:\")\n",
    "for i in elements:\n",
    "    print(i)\n",
    "ascending=0\n",
    "descending=0\n",
    "for i in range(0,len(elements)-1):\n",
    "    if elements[i]>elements[i+1]:\n",
    "        ascending=1\n",
    "        break\n",
    "else:\n",
    "    print(\"The entered list of elements are in ascending order.\")\n",
    "for i in range(0,len(elements)-1):\n",
    "    if elements[i]<elements[i+1]:\n",
    "        descending=1\n",
    "        break\n",
    "else:\n",
    "    print(\"The entered list of elements are in descending order.\")\n",
    "if ascending==1 and descending==1:\n",
    "    print(\"The entered list of elements are neither in ascending nor descending order.\")"
   ]
  },
  {
   "cell_type": "code",
   "execution_count": 69,
   "metadata": {},
   "outputs": [
    {
     "name": "stdout",
     "output_type": "stream",
     "text": [
      "Entered element should be greater than the previous element\n",
      "First list of sorted elements are:\n",
      "1\n",
      "Second list of sorted elements are:\n",
      "3\n",
      "5\n",
      "8\n",
      "9\n",
      "Single sorted list of elements after merging first and second list of sorted elements are:\n",
      "1\n",
      "3\n",
      "5\n",
      "8\n",
      "9\n"
     ]
    }
   ],
   "source": [
    "# 17. Write a code to merge two sorted lists into a single sorted list.\n",
    "\n",
    "elements1=list()\n",
    "elements2=list()\n",
    "length1=int(input(\"Enter the length of the first list:\"))\n",
    "i=0\n",
    "while i<length1:\n",
    "    element=(input(f\"Enter element {i+1} : \"))\n",
    "    if i==0:\n",
    "        elements1.append(element)\n",
    "        i=i+1\n",
    "    elif element>=elements1[i-1]:\n",
    "        elements1.append(element)\n",
    "        i=i+1\n",
    "    else:\n",
    "        print(\"Entered element should be greater than the previous element\")\n",
    "length2=int(input(\"Enter the length of the second list:\"))\n",
    "i=0\n",
    "while i<length2:\n",
    "    element=(input(f\"Enter element {i+1} : \"))\n",
    "    if i==0:\n",
    "        elements2.append(element)\n",
    "        i=i+1\n",
    "    elif element>=elements2[i-1]:\n",
    "        elements2.append(element)\n",
    "        i=i+1\n",
    "    else:\n",
    "        print(\"Entered element should be greater than the previous element\")\n",
    "print(\"First list of sorted elements are:\")\n",
    "for i in elements1:\n",
    "    print(i)\n",
    "print(\"Second list of sorted elements are:\")\n",
    "for i in elements2:\n",
    "    print(i)\n",
    "elements1.extend(elements2)\n",
    "elements1.sort()\n",
    "print(\"Single sorted list of elements after merging first and second list of sorted elements are:\")\n",
    "for i in elements1:\n",
    "    print(i)"
   ]
  },
  {
   "cell_type": "code",
   "execution_count": 70,
   "metadata": {},
   "outputs": [
    {
     "name": "stdout",
     "output_type": "stream",
     "text": [
      "First list of elements are:\n",
      "1\n",
      "2\n",
      "3\n",
      "Second list of elements are:\n",
      "2\n",
      "4\n",
      "Intersection of the two list of elements are:\n",
      "2\n"
     ]
    }
   ],
   "source": [
    "# 18. Implement a code to find the intersection of two given lists.\n",
    "\n",
    "elements1=list()\n",
    "elements2=list()\n",
    "length1=int(input(\"Enter the length of the first list:\"))\n",
    "for i in range(0,length1):\n",
    "    element=(input(f\"Enter element {i+1} : \"))\n",
    "    elements1.append(element)\n",
    "length2=int(input(\"Enter the length of the second list:\"))\n",
    "for i in range(0,length2):\n",
    "    element=(input(f\"Enter element {i+1} : \"))\n",
    "    elements2.append(element)\n",
    "print(\"First list of elements are:\")\n",
    "for i in elements1:\n",
    "    print(i)\n",
    "print(\"Second list of elements are:\")\n",
    "for i in elements2:\n",
    "    print(i)\n",
    "print(\"Intersection of the two list of elements are:\")\n",
    "elements3=list()\n",
    "for i in elements1:\n",
    "    if i in elements3:\n",
    "        continue\n",
    "    else:\n",
    "        elements3.append(i)\n",
    "        if i in elements2:\n",
    "            elementCount1=elements1.count(i)\n",
    "            elementCount2=elements2.count(i)\n",
    "            if elementCount1==elementCount2:\n",
    "                for j in range(0,elementCount1):\n",
    "                    print(i)\n",
    "            elif elementCount1<elementCount2:\n",
    "                for j in range(0,elementCount1):\n",
    "                    print(i)\n",
    "            else:\n",
    "                for j in range(0,elementCount2):\n",
    "                    print(i)"
   ]
  },
  {
   "cell_type": "code",
   "execution_count": 71,
   "metadata": {},
   "outputs": [
    {
     "name": "stdout",
     "output_type": "stream",
     "text": [
      "First list of elements are:\n",
      "1\n",
      "2\n",
      "3\n",
      "Second list of elements are:\n",
      "2\n",
      "4\n",
      "Union of the two list of elements without duplicates are:\n",
      "1\n",
      "2\n",
      "3\n",
      "4\n"
     ]
    }
   ],
   "source": [
    "# 19. Create a code to find the union of two lists without duplicates.\n",
    "\n",
    "elements1=list()\n",
    "elements2=list()\n",
    "length1=int(input(\"Enter the length of the first list:\"))\n",
    "for i in range(0,length1):\n",
    "    element=(input(f\"Enter element {i+1} : \"))\n",
    "    elements1.append(element)\n",
    "length2=int(input(\"Enter the length of the second list:\"))\n",
    "for i in range(0,length2):\n",
    "    element=(input(f\"Enter element {i+1} : \"))\n",
    "    elements2.append(element)\n",
    "print(\"First list of elements are:\")\n",
    "for i in elements1:\n",
    "    print(i)\n",
    "print(\"Second list of elements are:\")\n",
    "for i in elements2:\n",
    "    print(i)\n",
    "unionElements=list()\n",
    "for i in elements1:\n",
    "    if i in unionElements:\n",
    "        continue\n",
    "    else:\n",
    "        unionElements.append(i)\n",
    "for i in elements2:\n",
    "    if i in unionElements:\n",
    "        continue\n",
    "    else:\n",
    "        unionElements.append(i)\n",
    "print(\"Union of the two list of elements without duplicates are:\")\n",
    "for i in unionElements:\n",
    "    print(i)"
   ]
  },
  {
   "cell_type": "code",
   "execution_count": 75,
   "metadata": {},
   "outputs": [
    {
     "name": "stdout",
     "output_type": "stream",
     "text": [
      "List of elements is ['1', '2', '4', '3']\n",
      "Shuffled list of elements is ['2', '4', '1', '3']\n"
     ]
    }
   ],
   "source": [
    "# 20. Write a code to shuffle a given list randomly without using any built-in shuffle functions.\n",
    "\n",
    "import random\n",
    "elements=list()\n",
    "length=int(input(\"Enter the length of the list:\"))\n",
    "for i in range(0,length):\n",
    "    element=(input(f\"Enter element {i+1} : \"))\n",
    "    elements.append(element)\n",
    "print(f\"List of elements is {elements}\")\n",
    "for i in range(0,len(elements)):\n",
    "    index=random.randint(0,len(elements)-1)\n",
    "    num1=elements[i]\n",
    "    num2=elements[index]\n",
    "    elements[i]=num2\n",
    "    elements[index]=num1\n",
    "print(f\"Shuffled list of elements is {elements}\")"
   ]
  },
  {
   "cell_type": "code",
   "execution_count": 77,
   "metadata": {},
   "outputs": [
    {
     "name": "stdout",
     "output_type": "stream",
     "text": [
      "First tuple of elements are : ('1', '2', '3')\n",
      "Second tuple of elements are: ('1', '2')\n",
      "Intersection of the two tuple of elements are : ('1', '2')\n"
     ]
    }
   ],
   "source": [
    "# 21. Write a code that takes two tuples as input and returns a new tuple containing elements that are common to both input tuples.\n",
    "\n",
    "def intersectTuple(tuple1,tuple2):\n",
    "    print(f\"First tuple of elements are : {elements1}\")\n",
    "    print(f\"Second tuple of elements are: {elements2}\")\n",
    "    listElements1=list(elements1)\n",
    "    listElements2=list(elements2)\n",
    "    listElements3=list()\n",
    "    for i in listElements1:\n",
    "        if i in listElements3:\n",
    "            continue\n",
    "        else:\n",
    "            if i in listElements2:\n",
    "                elementCount1=listElements1.count(i)\n",
    "                elementCount2=listElements2.count(i)\n",
    "                if elementCount1==elementCount2:\n",
    "                    for j in range(0,elementCount1):\n",
    "                        listElements3.append(i)\n",
    "                elif elementCount1<elementCount2:\n",
    "                    for j in range(0,elementCount1):\n",
    "                        listElements3.append(i)\n",
    "                else:\n",
    "                    for j in range(0,elementCount2):\n",
    "                        listElements3.append(i)\n",
    "    intersectionElements=tuple(listElements3)\n",
    "    return intersectionElements\n",
    "elements1=tuple(input(\"Enter elements of first tuple seperated by space : \").split())\n",
    "elements2=tuple(input(\"Enter elements of second tuple seperated by space : \").split())\n",
    "intersectElements=intersectTuple(elements1,elements2)\n",
    "print(f\"Intersection of the two tuple of elements are : {intersectElements}\")"
   ]
  },
  {
   "cell_type": "code",
   "execution_count": 79,
   "metadata": {},
   "outputs": [
    {
     "name": "stdout",
     "output_type": "stream",
     "text": [
      "First set of integers are : {1, 2, 3, 4}\n",
      "Second set of integers are: {1, 2, 3}\n",
      "Intersection of the two set of integers are : {1, 2, 3}\n"
     ]
    }
   ],
   "source": [
    "# 22. Create a code that prompts the user to enter two sets of integers separated by commas. Then, print the intersection of these two sets.\n",
    "\n",
    "elements1=set(map(int,input(\"Enter integers of first set seperated by comma : \").split(\",\")))\n",
    "elements2=set(map(int,input(\"Enter integers of second set seperated by comma : \").split(\",\")))\n",
    "print(f\"First set of integers are : {elements1}\")\n",
    "print(f\"Second set of integers are: {elements2}\")\n",
    "print(f\"Intersection of the two set of integers are : {elements1 & elements2}\")"
   ]
  },
  {
   "cell_type": "code",
   "execution_count": 80,
   "metadata": {},
   "outputs": [
    {
     "name": "stdout",
     "output_type": "stream",
     "text": [
      "First tuple of elements are : ('1', '2', '3', '4')\n",
      "Second tuple of elements are: ('1', '2', '3')\n",
      "Concatenation of the two tuple of elements are : ('1', '2', '3', '4', '1', '2', '3')\n"
     ]
    }
   ],
   "source": [
    "# 23. Write a code to concatenate two tuples. The function should take two tuples as input and return a new tuple containing elements from both input tuples.\n",
    "\n",
    "def concatTuple(tuple1,tuple2):\n",
    "    concatenatedTuple=tuple1+tuple2\n",
    "    return concatenatedTuple\n",
    "elements1=tuple(input(\"Enter elements of first tuple seperated by space : \").split())\n",
    "elements2=tuple(input(\"Enter elements of second tuple seperated by space : \").split())\n",
    "print(f\"First tuple of elements are : {elements1}\")\n",
    "print(f\"Second tuple of elements are: {elements2}\")\n",
    "concatElements3=concatTuple(elements1,elements2)\n",
    "print(f\"Concatenation of the two tuple of elements are : {concatElements3}\")\n"
   ]
  },
  {
   "cell_type": "code",
   "execution_count": 81,
   "metadata": {},
   "outputs": [
    {
     "name": "stdout",
     "output_type": "stream",
     "text": [
      "First set of elements are : {'2', '3', '4', '1'}\n",
      "Second set of elements are: {'2', '1'}\n",
      "Elements present in the first set but not in the second set are : {'4', '3'}\n"
     ]
    }
   ],
   "source": [
    "# 24. Develop a code that prompts the user to input two sets of strings. Then, print the elements that are present in the first set but not in the second set.\n",
    "\n",
    "elements1=set(input(f\"Enter elements of first set seperated by space : \").split())\n",
    "elements2=set(input(f\"Enter elements of second set seperated by space : \").split())\n",
    "print(f\"First set of elements are : {elements1}\")\n",
    "print(f\"Second set of elements are: {elements2}\")\n",
    "print(f\"Elements present in the first set but not in the second set are : {elements1 - elements2}\")"
   ]
  },
  {
   "cell_type": "code",
   "execution_count": 82,
   "metadata": {},
   "outputs": [
    {
     "name": "stdout",
     "output_type": "stream",
     "text": [
      "Tuple of elements are : ('1', '2', '3', 'soham', '4', '2.0')\n",
      "Entered lower index is : 1\n",
      "Entered upper index is : 3\n",
      "Elements of the sliced tuple are : ('2', '3', 'soham')\n"
     ]
    }
   ],
   "source": [
    "# 25. Create a code that takes a tuple and two integers as input. The function should return a new tuple containing elements from the original tuple within the specified range of indices.\n",
    "\n",
    "def sliceTuple(tuple,lowerIndex,upperIndex):\n",
    "    if upperIndex==len(tuple)-1:\n",
    "        slicedTuple=tuple[lowerIndex:]\n",
    "    else:\n",
    "        slicedTuple=tuple[lowerIndex:upperIndex+1]\n",
    "    return slicedTuple\n",
    "elements=tuple(input(\"Enter elements of tuple seperated by space : \").split())\n",
    "lowerIndex=int(input(\"Enter the lower index to slice:\"))\n",
    "upperIndex=int(input(\"Enter the upper index to slice:\"))\n",
    "print(f\"Tuple of elements are : {elements}\")\n",
    "print(f\"Entered lower index is : {lowerIndex}\")\n",
    "print(f\"Entered upper index is : {upperIndex}\")\n",
    "slicedElements=sliceTuple(elements,lowerIndex,upperIndex)\n",
    "print(f\"Elements of the sliced tuple are : {slicedElements}\")"
   ]
  },
  {
   "cell_type": "code",
   "execution_count": 83,
   "metadata": {},
   "outputs": [
    {
     "name": "stdout",
     "output_type": "stream",
     "text": [
      "First set of characters are : {'k', 'a', 'b', 'f', 'd', 's'}\n",
      "Second set of characters are: {'k', ',', 'l', 'a', 'n', 's'}\n",
      "Union of the two set of characters are : {'k', ',', 'l', 'a', 'n', 'b', 'f', 'd', 's'}\n"
     ]
    }
   ],
   "source": [
    "# 26. Write a code that prompts the user to input two sets of characters. Then, print the union of these two sets.\n",
    "\n",
    "elements1=set(input(\"Enter characters of first set seperated by space : \").split())\n",
    "elements2=set(input(\"Enter characters of second set seperated by space : \").split())\n",
    "print(f\"First set of characters are : {elements1}\")\n",
    "print(f\"Second set of characters are: {elements2}\")\n",
    "print(f\"Union of the two set of characters are : {elements1 | elements2}\")"
   ]
  },
  {
   "cell_type": "code",
   "execution_count": 84,
   "metadata": {},
   "outputs": [
    {
     "name": "stdout",
     "output_type": "stream",
     "text": [
      "Tuple of integers are : (1, 2, 4, 3)\n",
      "Maximum value in the tuple of integers is 4\n",
      "Minimum value in the tuple of integers is 1\n"
     ]
    }
   ],
   "source": [
    "# 27. Develop a code that takes a tuple of integers as input. The function should return the maximum and minimum values from the tuple using tuple unpacking.\n",
    "\n",
    "elements=tuple(map(int,input(\"Enter integers of tuple seperated by space : \").split()))\n",
    "if(len(elements)==1):\n",
    "    elements=(elements[0],)\n",
    "first,*rest=elements\n",
    "print(f\"Tuple of integers are : {elements}\")\n",
    "if len(rest)==0:\n",
    "    print(f\"Maximum value in the tuple of integers is {first}\")\n",
    "elif first>max(rest) and len(rest)>=1:\n",
    "    print(f\"Maximum value in the tuple of integers is {first}\")\n",
    "else:\n",
    "    print(f\"Maximum value in the tuple of integers is {max(rest)}\")\n",
    "if len(rest)==0:\n",
    "    print(f\"Minimum value in the tuple of integers is {first}\")\n",
    "elif first<min(rest) and len(rest)>=1:\n",
    "    print(f\"Minimum value in the tuple of integers is {first}\")\n",
    "else:\n",
    "    print(f\"Minimum value in the tuple of integers is {min(rest)}\")"
   ]
  },
  {
   "cell_type": "code",
   "execution_count": 85,
   "metadata": {},
   "outputs": [
    {
     "name": "stdout",
     "output_type": "stream",
     "text": [
      "First set of integers are : {50, 3, 40, 10, 30}\n",
      "Second set of integers are: {2, 3, 100, 50, 90, 30}\n",
      "Union of the two set of integers are : {2, 3, 100, 40, 10, 50, 90, 30}\n",
      "Intersection of the two set of integers are : {50, 3, 30}\n",
      "Difference of the two set of integers are : {40, 10}\n"
     ]
    }
   ],
   "source": [
    "# 28. Create a code that defines two sets of integers. Then, print the union, intersection, and difference of these two sets.\n",
    "\n",
    "elements1={3,10,30,40,50}\n",
    "elements2={3,30,50,90,2,100}\n",
    "print(f\"First set of integers are : {elements1}\")\n",
    "print(f\"Second set of integers are: {elements2}\")\n",
    "print(f\"Union of the two set of integers are : {elements1 | elements2}\")\n",
    "print(f\"Intersection of the two set of integers are : {elements1 & elements2}\")\n",
    "print(f\"Difference of the two set of integers are : {elements1 - elements2}\")"
   ]
  },
  {
   "cell_type": "code",
   "execution_count": 86,
   "metadata": {},
   "outputs": [
    {
     "name": "stdout",
     "output_type": "stream",
     "text": [
      "Tuple of elements are : ('1', '4', '3', '3', '2')\n",
      "Count of occurences of 3 in the entered tuple of elements is 2\n"
     ]
    }
   ],
   "source": [
    "# 29. Write a code that takes a tuple and an element as input. The function should return the count of occurrences of the given element in the tuple.\n",
    "\n",
    "def countOccurence(elements,search):\n",
    "    count=0\n",
    "    for i in elements:\n",
    "        if i==search:\n",
    "            count=count+1\n",
    "    return count\n",
    "elements=tuple(input(\"Enter elements of tuple seperated by space : \").split())\n",
    "searchElement=input(\"Enter the element to count occurence for:\")\n",
    "print(f\"Tuple of elements are : {elements}\")\n",
    "countElement=countOccurence(elements,searchElement)\n",
    "print(f\"Count of occurences of {searchElement} in the entered tuple of elements is {countElement}\")"
   ]
  },
  {
   "cell_type": "code",
   "execution_count": 87,
   "metadata": {},
   "outputs": [
    {
     "name": "stdout",
     "output_type": "stream",
     "text": [
      "First set of elements are : {'soham', 'a', '4', '1'}\n",
      "Second set of elements are: {'n', 'a'}\n",
      "Symmetric difference of the two set of elements are : {'4', '1', 'n', 'soham'}\n"
     ]
    }
   ],
   "source": [
    "# 30. Develop a code that prompts the user to input two sets of strings. Then, print the symmetric difference of these two sets.\n",
    "\n",
    "elements1=set(input(f\"Enter elements of first set seperated by space : \").split())\n",
    "elements2=set(input(f\"Enter elements of second set seperated by space : \").split())\n",
    "print(f\"First set of elements are : {elements1}\")\n",
    "print(f\"Second set of elements are: {elements2}\")\n",
    "print(f\"Symmetric difference of the two set of elements are : {elements1 ^ elements2}\")"
   ]
  },
  {
   "cell_type": "code",
   "execution_count": 88,
   "metadata": {},
   "outputs": [
    {
     "name": "stdout",
     "output_type": "stream",
     "text": [
      "List of words are:\n",
      "soham\n",
      "marc\n",
      "kabir\n",
      "soham\n",
      "Frequency of each word in the list are:\n",
      "marc : 1\n",
      "soham : 2\n",
      "kabir : 1\n"
     ]
    }
   ],
   "source": [
    "# 31. Write a code that takes a list of words as input and returns a dictionary where the keys are unique words and the values are the frequencies of those words in the input list.\n",
    "\n",
    "def countFrequency(words):\n",
    "    occurences=dict()\n",
    "    uniqueElements=set()\n",
    "    for i in elements:\n",
    "        uniqueElements.add(i)\n",
    "    for i in uniqueElements:\n",
    "        count=0\n",
    "        for j in range(0,len(elements)):\n",
    "            if i==elements[j]:\n",
    "                count=count+1\n",
    "        occurences.update({i:count})\n",
    "    return occurences\n",
    "elements=list()\n",
    "length=int(input(\"Enter the length of the list:\"))\n",
    "for i in range(0,length):\n",
    "    element=(input(f\"Enter word {i+1} : \"))\n",
    "    elements.append(element)\n",
    "print(\"List of words are:\")\n",
    "for i in elements:\n",
    "    print(i)\n",
    "frequencies=countFrequency(elements)\n",
    "print(\"Frequency of each word in the list are:\")\n",
    "for key,value in frequencies.items():\n",
    "    print(f\"{key} : {value}\")"
   ]
  },
  {
   "cell_type": "code",
   "execution_count": 89,
   "metadata": {},
   "outputs": [
    {
     "name": "stdout",
     "output_type": "stream",
     "text": [
      "Data in first dictionary are:{'1': '2', '2': '4', '3': '6'}\n",
      "Data in second dictionary are:{'1': '2', '4': '9'}\n",
      "Data in the dictionary after merging both the dictionaries are:{'1': '22', '2': '4', '3': '6', '4': '9'}\n"
     ]
    }
   ],
   "source": [
    "# 32.  Write a code that takes two dictionaries as input and merges them into a single dictionary. If there are common keys, the values should be added together.\n",
    "\n",
    "length1=int(input(\"Enter the length of the first dictionary:\"))\n",
    "dict1=dict()\n",
    "for i in range(0,length1):\n",
    "    key=input(\"Enter the key:\")\n",
    "    value=input(\"Enter the value:\")\n",
    "    dict1[key]=value\n",
    "length2=int(input(\"Enter the length of the second dictionary:\"))\n",
    "dict2=dict()\n",
    "for i in range(0,length2):\n",
    "    key=input(\"Enter the key:\")\n",
    "    value=input(\"Enter the value:\")\n",
    "    dict2[key]=value\n",
    "print(f\"Data in first dictionary are:{dict1}\")\n",
    "print(f\"Data in second dictionary are:{dict2}\")\n",
    "dict3=dict()\n",
    "for i in dict1:\n",
    "    dict3[i]=dict1[i]\n",
    "for i in dict3:\n",
    "    if i in dict2:\n",
    "        dict3[i]=dict3[i]+dict2[i]\n",
    "        dict2.pop(i)\n",
    "for i in dict2:\n",
    "    dict3[i]=dict2[i]\n",
    "print(f\"Data in the dictionary after merging both the dictionaries are:{dict3}\")"
   ]
  },
  {
   "cell_type": "code",
   "execution_count": 90,
   "metadata": {},
   "outputs": [
    {
     "name": "stdout",
     "output_type": "stream",
     "text": [
      "Value for dictionary {'Books': {'Great Stories': {'Price': 450}, 'Great Poems': {'Price': 350}}} with list of keys ['Books', 'Great Stories', 'Price'] is 450\n",
      "Value for dictionary {'Books': {'Great Stories': {'Price': 450}, 'Great Poems': {'Price': 350}}} with list of keys ['Books', 'Great Stories', 'Author'] is None\n",
      "Value for dictionary {'Books': {'Great Stories': {'Price': 450}, 'Great Poems': {'Price': 350}}} with list of keys ['Books'] is {'Great Stories': {'Price': 450}, 'Great Poems': {'Price': 350}}\n",
      "Value for dictionary {'Books': {'Great Stories': {'Price': 450}, 'Great Poems': {'Price': 350}}} with list of keys [] is None\n"
     ]
    }
   ],
   "source": [
    "# 33. Write a code to access a value in a nested dictionary. The function should take the dictionary and a list of keys as input, and return the corresponding value. If any of the keys do not exist in the dictionary, the function should return None.\n",
    "\n",
    "def checkKey(dictionary,keys):\n",
    "    value=dictionary\n",
    "    while len(keys)>0:\n",
    "        if len(keys)>0 and type(value)!=dict:\n",
    "            return None\n",
    "        for i in keys:\n",
    "            if i in value.keys():\n",
    "                keys.remove(i)\n",
    "                value=value[i]\n",
    "                break\n",
    "        else:\n",
    "            return None\n",
    "    return value\n",
    "dictionary={'Books':{'Great Stories':{'Price':450},'Great Poems':{'Price':350}}}\n",
    "keys1=['Books','Great Stories','Price']\n",
    "keys2=['Books','Great Stories','Author']\n",
    "keys3=['Books']\n",
    "keys4=['Books','Great Stories','Price','Great Poems']\n",
    "print(f\"Value for dictionary {dictionary} with list of keys {keys1} is {checkKey(dictionary,keys1)}\")\n",
    "print(f\"Value for dictionary {dictionary} with list of keys {keys2} is {checkKey(dictionary,keys2)}\")\n",
    "print(f\"Value for dictionary {dictionary} with list of keys {keys3} is {checkKey(dictionary,keys3)}\")\n",
    "print(f\"Value for dictionary {dictionary} with list of keys {keys3} is {checkKey(dictionary,keys4)}\")"
   ]
  },
  {
   "cell_type": "code",
   "execution_count": 91,
   "metadata": {},
   "outputs": [
    {
     "name": "stdout",
     "output_type": "stream",
     "text": [
      "Data in the dictionary are : {'soham': '20', 'marc': '18', 'kabir': '22'}\n",
      "Sorted version of the dictionary based on the values is : {'marc': '18', 'soham': '20', 'kabir': '22'}\n"
     ]
    }
   ],
   "source": [
    "# 34. Write a code that takes a dictionary as input and returns a sorted version of it based on the values. You can choose whether to sort in ascending or descending order.\n",
    "\n",
    "length=int(input(\"Enter the length of the dictionary:\"))\n",
    "dict1=dict()\n",
    "for i in range(0,length):\n",
    "    key=input(\"Enter the key:\")\n",
    "    value=input(\"Enter the value:\")\n",
    "    dict1[key]=value\n",
    "print(f\"Data in the dictionary are : {dict1}\")\n",
    "sorted_dict=dict(sorted(dict1.items(),key=lambda item:item[1]))\n",
    "print(f\"Sorted version of the dictionary based on the values is : {sorted_dict}\")"
   ]
  },
  {
   "cell_type": "code",
   "execution_count": 92,
   "metadata": {},
   "outputs": [
    {
     "name": "stdout",
     "output_type": "stream",
     "text": [
      "Data in the dictionary are : {'1': '2', '2': '2', '3': '4'}\n",
      "Inverted dictionary is : {'2': ['1', '2'], '4': '3'}\n"
     ]
    }
   ],
   "source": [
    "# 35. Write a code that inverts a dictionary, swapping keys and values. Ensure that the inverted dictionary correctly handles cases where multiple keys have the same value by storing the keys as a list in the inverted dictionary.\n",
    "\n",
    "length=int(input(\"Enter the length of the dictionary:\"))\n",
    "dict1=dict()\n",
    "for i in range(0,length):\n",
    "    key=input(\"Enter the key:\")\n",
    "    value=input(\"Enter the value:\")\n",
    "    dict1[key]=value\n",
    "print(f\"Data in the dictionary are : {dict1}\")\n",
    "dict2=dict()\n",
    "for i in dict1.values():\n",
    "    if list(dict1.values()).count(i)>1:\n",
    "        dict2[i]=[]\n",
    "    else:\n",
    "        dict2[i]=\"\"\n",
    "for key,value in dict1.items():\n",
    "    if value in dict2.keys():\n",
    "        if type(dict2[value])==list:\n",
    "            dict2[value].append(key)\n",
    "        else:\n",
    "            dict2[value]=key\n",
    "print(f\"Inverted dictionary is : {dict2}\")"
   ]
  }
 ],
 "metadata": {
  "kernelspec": {
   "display_name": "Python 3",
   "language": "python",
   "name": "python3"
  },
  "language_info": {
   "codemirror_mode": {
    "name": "ipython",
    "version": 3
   },
   "file_extension": ".py",
   "mimetype": "text/x-python",
   "name": "python",
   "nbconvert_exporter": "python",
   "pygments_lexer": "ipython3",
   "version": "3.13.2"
  }
 },
 "nbformat": 4,
 "nbformat_minor": 2
}
